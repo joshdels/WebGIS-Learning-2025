{
 "cells": [
  {
   "cell_type": "code",
   "execution_count": null,
   "id": "788df183",
   "metadata": {
    "vscode": {
     "languageId": "plaintext"
    }
   },
   "outputs": [],
   "source": [
    "This gets the raw data from OSM with just few lines of codes"
   ]
  },
  {
   "cell_type": "code",
   "execution_count": null,
   "id": "610f48cd",
   "metadata": {},
   "outputs": [],
   "source": [
    "import osmnx as ox\n",
    "import matplotlib.pyplot as plt\n",
    "\n",
    "# Define a place or polygon\n",
    "place = \"Manila, Philippines\"\n",
    "tags = {\n",
    "  'amenity': ['cafe', 'restaurant', 'fast_food', 'supermarket', 'general', 'department_store', 'school', 'hospital', \t'place_of_worship'], \n",
    "  }\n",
    "\n",
    "#extract\n",
    "cafes = ox.features_from_place(place, tags)\n",
    "print(f\"Original count of raw data: {len(cafes)}\")\n",
    "\n",
    "#data filtering\n",
    "cafes = cafes[cafes.geom_type == 'Point']\n",
    "cafes = cafes.drop(columns=['element', 'id'], errors='ignore')\n",
    "cafes = cafes.dropna(subset=['name'])\n",
    "print(f\"Remaing count count of raw data: {len(cafes)}\")\n",
    "# data cleaning columns\n",
    "cafes_df = cafes[['name', 'amenity', 'geometry']]\n",
    "\n",
    "# #save file \n",
    "cafes_df.to_file(r\"WebGIS Pro Academy\\GIS Python\\selfpractice\\practice osmx\\final_data.geojson\", driver=\"GeoJSON\")\n",
    "\n",
    "\n",
    "# print(len(cafes_df))\n",
    "\n",
    "#plot\n",
    "# cafes_df.plot(figsize=(10, 10), color='brown', markersize=5)\n",
    "# plt.title(\"Cafes in Manila (OSM Data)\")\n",
    "# plt.xlabel(\"Longitude\")\n",
    "# plt.ylabel(\"Latitude\")\n",
    "# plt.grid(True)\n",
    "# plt.show()\n",
    "\n"
   ]
  },
  {
   "cell_type": "code",
   "execution_count": null,
   "id": "bcd49b52",
   "metadata": {
    "vscode": {
     "languageId": "plaintext"
    }
   },
   "outputs": [],
   "source": []
  }
 ],
 "metadata": {
  "language_info": {
   "name": "python"
  }
 },
 "nbformat": 4,
 "nbformat_minor": 5
}
